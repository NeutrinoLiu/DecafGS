{
 "cells": [
  {
   "cell_type": "code",
   "execution_count": 2,
   "metadata": {},
   "outputs": [
    {
     "name": "stdout",
     "output_type": "stream",
     "text": [
      "tensor([1.0333, 2.0667, 3.1000, 4.2000, 5.2500, 6.3000])\n"
     ]
    }
   ],
   "source": [
    "from functools import reduce\n",
    "import torch\n",
    "def avg_none_zero_only(tensor_list):\n",
    "    \"\"\"\n",
    "    tensorlist: [tensor, tensor, ...], tensor of shape [N,]\n",
    "    return: tensor of shape [N,], average of non-zero elements\n",
    "    \"\"\"\n",
    "    non_zero_count = reduce(lambda x, y: x + (y > 0).float(), tensor_list, torch.zeros_like(tensor_list[0]))\n",
    "    sumup = reduce(lambda x, y: x + y, tensor_list, torch.zeros_like(tensor_list[0]))\n",
    "    return sumup / (non_zero_count + 1e-6)\n",
    "\n",
    "a = torch.tensor([1, 2, 3, 0, 0, 0], dtype=torch.float32)\n",
    "b = torch.tensor([1, 2, 3, 4, 5, 6], dtype=torch.float32)\n",
    "c = torch.tensor([0, 0, 0, 0, 0, 0], dtype=torch.float32)\n",
    "d = torch.tensor([1.1, 2.2, 3.3, 4.4, 5.5, 6.6], dtype=torch.float32)\n",
    "print(avg_none_zero_only([a, b, c,d]))"
   ]
  }
 ],
 "metadata": {
  "kernelspec": {
   "display_name": "cvpr",
   "language": "python",
   "name": "python3"
  },
  "language_info": {
   "codemirror_mode": {
    "name": "ipython",
    "version": 3
   },
   "file_extension": ".py",
   "mimetype": "text/x-python",
   "name": "python",
   "nbconvert_exporter": "python",
   "pygments_lexer": "ipython3",
   "version": "3.8.19"
  }
 },
 "nbformat": 4,
 "nbformat_minor": 2
}
