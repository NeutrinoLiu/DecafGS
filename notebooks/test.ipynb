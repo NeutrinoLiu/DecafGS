{
 "cells": [
  {
   "cell_type": "code",
   "execution_count": null,
   "metadata": {},
   "outputs": [
    {
     "name": "stdout",
     "output_type": "stream",
     "text": [
      "tensor([3], device='cuda:0')\n"
     ]
    }
   ],
   "source": [
    "import torch\n",
    "\n",
    "def compute_overlap_length(left: torch.Tensor, right: torch.Tensor, valid: torch.Tensor) -> torch.Tensor:\n",
    "    \"\"\"\n",
    "    Computes the length of overlap for each data point in [left, right] with the `valid` binary tensor.\n",
    "\n",
    "    Args:\n",
    "        left (torch.Tensor): Tensor of shape (N,) representing the left bounds of the intervals.\n",
    "        right (torch.Tensor): Tensor of shape (N,) representing the right bounds of the intervals.\n",
    "        valid (torch.Tensor): Binary tensor of shape (T,) indicating valid positions (1 for valid, 0 otherwise).\n",
    "\n",
    "    Returns:\n",
    "        torch.Tensor: Tensor of shape (N,) representing the length of overlap for each interval in [left, right] with valid.\n",
    "    \"\"\"\n",
    "    # Ensure left and right bounds are within the range of T\n",
    "    T = valid.size(0)\n",
    "    left_clamped = torch.clamp(left, 0, T - 1)\n",
    "    right_clamped = torch.clamp(right, 0, T - 1)\n",
    "\n",
    "    # Create a mask for all intervals\n",
    "    N = left.size(0)\n",
    "    range_tensor = torch.arange(T, device=valid.device).unsqueeze(0).expand(N, -1)\n",
    "\n",
    "    # Generate masks for each interval\n",
    "    interval_masks = (range_tensor >= left_clamped.unsqueeze(1)) & (range_tensor <= right_clamped.unsqueeze(1))\n",
    "\n",
    "    # Compute overlaps using batch matrix multiplication\n",
    "    overlaps = torch.matmul(interval_masks.float(), valid.float().unsqueeze(1)).squeeze(1).long()\n",
    "\n",
    "    return overlaps\n",
    "\n",
    "# Example usage\n",
    "if __name__ == \"__main__\":\n",
    "    left = torch.tensor([3], device=\"cuda\")\n",
    "    right = torch.tensor([8], device=\"cuda\")\n",
    "    valid = torch.tensor([0, 1, 1, 1, 0, 1, 0, 1, 1, 1, 0], device=\"cuda\")\n",
    "\n",
    "    result = compute_overlap_length(left, right, valid)\n",
    "    print(result)"
   ]
  },
  {
   "cell_type": "code",
   "execution_count": null,
   "metadata": {},
   "outputs": [],
   "source": []
  }
 ],
 "metadata": {
  "kernelspec": {
   "display_name": "cvpr",
   "language": "python",
   "name": "python3"
  },
  "language_info": {
   "codemirror_mode": {
    "name": "ipython",
    "version": 3
   },
   "file_extension": ".py",
   "mimetype": "text/x-python",
   "name": "python",
   "nbconvert_exporter": "python",
   "pygments_lexer": "ipython3",
   "version": "3.8.19"
  }
 },
 "nbformat": 4,
 "nbformat_minor": 2
}
