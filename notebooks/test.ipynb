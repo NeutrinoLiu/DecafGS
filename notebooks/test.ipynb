{
 "cells": [
  {
   "cell_type": "code",
   "execution_count": 3,
   "metadata": {},
   "outputs": [
    {
     "name": "stdout",
     "output_type": "stream",
     "text": [
      "tensor([0.3000])\n",
      "tensor([0.3000])\n"
     ]
    }
   ],
   "source": [
    "import torch\n",
    "a = torch.tensor([0.1] * 10)\n",
    "b = torch.multinomial(a, 5, replacement=True)\n",
    "b ** 0.4\n",
    "\n",
    "a = torch.tensor([0.1])\n",
    "b = torch.tensor([0.2])\n",
    "c = [a, b]\n",
    "sum(c)\n",
    "print(sum(c))\n",
    "print(a + b)"
   ]
  }
 ],
 "metadata": {
  "kernelspec": {
   "display_name": "cvpr",
   "language": "python",
   "name": "python3"
  },
  "language_info": {
   "codemirror_mode": {
    "name": "ipython",
    "version": 3
   },
   "file_extension": ".py",
   "mimetype": "text/x-python",
   "name": "python",
   "nbconvert_exporter": "python",
   "pygments_lexer": "ipython3",
   "version": "3.8.19"
  }
 },
 "nbformat": 4,
 "nbformat_minor": 2
}
