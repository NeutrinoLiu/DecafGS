{
 "cells": [
  {
   "cell_type": "code",
   "execution_count": 1,
   "metadata": {},
   "outputs": [
    {
     "name": "stdout",
     "output_type": "stream",
     "text": [
      "Parameter containing:\n",
      "tensor([[-0.4514,  0.3368],\n",
      "        [ 2.6611,  1.4792]], requires_grad=True)\n",
      "True\n"
     ]
    }
   ],
   "source": [
    "import torch\n",
    "import torch.nn as nn\n",
    "\n",
    "# Create a ParameterList\n",
    "attr = nn.ParameterList([nn.Parameter(torch.randn(2,2))])\n",
    "\n",
    "# Create backup before optimizer\n",
    "params_backup = list(attr)\n",
    "\n",
    "# Create optimizer\n",
    "optimizer = torch.optim.Adam([{\n",
    "    'params': attr,\n",
    "    'lr': 0.01\n",
    "}])\n",
    "\n",
    "# Modify through optimizer\n",
    "optimizer.param_groups[0]['params'][0].data += 1\n",
    "\n",
    "# Check if params_backup reflects the change\n",
    "print(params_backup[0])  # Will show the modified values\n",
    "\n",
    "# They point to the same memory\n",
    "print(id(optimizer.param_groups[0]['params'][0]) == id(params_backup[0]))  #"
   ]
  },
  {
   "cell_type": "code",
   "execution_count": null,
   "metadata": {},
   "outputs": [],
   "source": []
  }
 ],
 "metadata": {
  "kernelspec": {
   "display_name": "cvpr",
   "language": "python",
   "name": "python3"
  },
  "language_info": {
   "codemirror_mode": {
    "name": "ipython",
    "version": 3
   },
   "file_extension": ".py",
   "mimetype": "text/x-python",
   "name": "python",
   "nbconvert_exporter": "python",
   "pygments_lexer": "ipython3",
   "version": "3.8.19"
  }
 },
 "nbformat": 4,
 "nbformat_minor": 2
}
