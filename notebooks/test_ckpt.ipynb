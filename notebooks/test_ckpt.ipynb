{
 "cells": [
  {
   "cell_type": "code",
   "execution_count": 10,
   "metadata": {},
   "outputs": [
    {
     "name": "stdout",
     "output_type": "stream",
     "text": [
      "dict_keys(['step', 'model', 'routine', 'config'])\n"
     ]
    },
    {
     "name": "stderr",
     "output_type": "stream",
     "text": [
      "/tmp/ipykernel_3934767/3296097240.py:4: FutureWarning: You are using `torch.load` with `weights_only=False` (the current default value), which uses the default pickle module implicitly. It is possible to construct malicious pickle data which will execute arbitrary code during unpickling (See https://github.com/pytorch/pytorch/blob/main/SECURITY.md#untrusted-models for more details). In a future release, the default value for `weights_only` will be flipped to `True`. This limits the functions that could be executed during unpickling. Arbitrary objects will no longer be allowed to be loaded via this mode unless they are explicitly allowlisted by the user via `torch.serialization.add_safe_globals`. We recommend you start setting `weights_only=True` for any use case where you don't have full control of the loaded file. Please open an issue on GitHub for any issues related to this experimental feature.\n",
      "  checkpoint = torch.load(target)\n"
     ]
    }
   ],
   "source": [
    "import torch\n",
    "target = \"../output/test_checkpoint/chkpt/chkpt_9.pth\"\n",
    "\n",
    "checkpoint = torch.load(target)\n",
    "print(checkpoint.keys())"
   ]
  },
  {
   "cell_type": "code",
   "execution_count": 11,
   "metadata": {},
   "outputs": [
    {
     "name": "stdout",
     "output_type": "stream",
     "text": [
      "{'step': 9, 'full_frames': False, 'initiated': True, 'init_frames': [0, 20, 40, 60, 80, 100, 120, 140, 160, 180, 200, 220, 240, 260, 280, 299], 'unlocked_frames': [0, 20, 40, 60, 80, 100, 120, 140, 160, 180, 200, 220, 240, 260, 280, 299]}\n",
      "dict_keys(['step', 'deform', 'deform_anchor_params', 'deform_deform_params', 'scaffold', 'scaffold_opt', 'deform_anchor_opt', 'deform_deform_opt', 'scaffold_lr_sched', 'deform_anchor_lr_sched', 'deform_deform_lr_sched'])\n",
      "odict_keys(['mlp.scales.1.weight', 'mlp.scales.1.bias', 'mlp.scales.3.weight', 'mlp.scales.3.bias', 'mlp.quats.1.weight', 'mlp.quats.1.bias', 'mlp.quats.3.weight', 'mlp.quats.3.bias', 'mlp.opacities.1.weight', 'mlp.opacities.1.bias', 'mlp.opacities.3.weight', 'mlp.opacities.3.bias', 'mlp.colors.1.weight', 'mlp.colors.1.bias', 'mlp.colors.3.weight', 'mlp.colors.3.bias'])\n",
      "odict_keys(['deform_mlp.embed_mixing_mlp.layers.0.0.weight', 'deform_mlp.embed_mixing_mlp.layers.0.0.bias', 'deform_mlp.embed_mixing_mlp.layers.1.0.weight', 'deform_mlp.embed_mixing_mlp.layers.1.0.bias', 'deform_mlp.embed_mixing_mlp.layers.2.0.weight', 'deform_mlp.embed_mixing_mlp.layers.2.0.bias', 'deform_mlp.embed_mixing_mlp.layers.3.0.weight', 'deform_mlp.embed_mixing_mlp.layers.3.0.bias', 'deform_mlp.embed_mixing_mlp.layers.4.0.weight', 'deform_mlp.embed_mixing_mlp.layers.4.0.bias', 'deform_mlp.embed_mixing_mlp.layers.5.0.weight', 'deform_mlp.embed_mixing_mlp.layers.5.0.bias', 'deform_mlp.embed_mixing_mlp.layers.6.0.weight', 'deform_mlp.embed_mixing_mlp.layers.6.0.bias', 'deform_mlp.embed_mixing_mlp.layers.7.0.weight', 'deform_mlp.embed_mixing_mlp.layers.7.0.bias', 'deform_mlp.embed_deform_mlp.layers.0.0.weight', 'deform_mlp.embed_deform_mlp.layers.0.0.bias', 'deform_mlp.embed_deform_mlp.layers.1.0.weight', 'deform_mlp.embed_deform_mlp.layers.1.0.bias', 'deform_mlp.embed_deform_mlp.layers.2.0.weight', 'deform_mlp.embed_deform_mlp.layers.2.0.bias', 'deform_mlp.embed_deform_mlp.layers.3.0.weight', 'deform_mlp.embed_deform_mlp.layers.3.0.bias', 'deform_mlp.embed_deform_mlp.layers.4.0.weight', 'deform_mlp.embed_deform_mlp.layers.4.0.bias', 'deform_mlp.embed_deform_mlp.layers.5.0.weight', 'deform_mlp.embed_deform_mlp.layers.5.0.bias', 'deform_mlp.embed_deform_mlp.layers.6.0.weight', 'deform_mlp.embed_deform_mlp.layers.6.0.bias', 'deform_mlp.embed_deform_mlp.layers.7.0.weight', 'deform_mlp.embed_deform_mlp.layers.7.0.bias', 'deform_mlp.delta_mlps.0.1.weight', 'deform_mlp.delta_mlps.0.1.bias', 'deform_mlp.delta_mlps.0.3.weight', 'deform_mlp.delta_mlps.0.3.bias', 'deform_mlp.delta_mlps.1.1.weight', 'deform_mlp.delta_mlps.1.1.bias', 'deform_mlp.delta_mlps.1.3.weight', 'deform_mlp.delta_mlps.1.3.bias', 'deform_mlp.delta_mlps.2.1.weight', 'deform_mlp.delta_mlps.2.1.bias', 'deform_mlp.delta_mlps.2.3.weight', 'deform_mlp.delta_mlps.2.3.bias', 'deform_mlp.delta_mlps.3.1.weight', 'deform_mlp.delta_mlps.3.1.bias', 'deform_mlp.delta_mlps.3.3.weight', 'deform_mlp.delta_mlps.3.3.bias'])\n",
      "dict_keys(['frame_embed', 'frame_delta_embed'])\n",
      "dict_keys(['anchor_embed', 'anchor_xyz', 'anchor_offsets', 'anchor_offset_extend', 'anchor_scale_extend', 'anchor_opacity_decay', 'anchor_opacity_mean', 'anchor_opacity_std', 'anchor_opacity_steepness', 'anchor_delta_embed'])\n"
     ]
    },
    {
     "ename": "AttributeError",
     "evalue": "'list' object has no attribute 'shape'",
     "output_type": "error",
     "traceback": [
      "\u001b[0;31m---------------------------------------------------------------------------\u001b[0m",
      "\u001b[0;31mAttributeError\u001b[0m                            Traceback (most recent call last)",
      "Cell \u001b[0;32mIn[11], line 15\u001b[0m\n\u001b[1;32m     13\u001b[0m \u001b[38;5;28mprint\u001b[39m(deform_deform\u001b[38;5;241m.\u001b[39mkeys())\n\u001b[1;32m     14\u001b[0m \u001b[38;5;28mprint\u001b[39m(deform_anchor\u001b[38;5;241m.\u001b[39mkeys())\n\u001b[0;32m---> 15\u001b[0m \u001b[38;5;28mprint\u001b[39m(\u001b[43mdeform_deform\u001b[49m\u001b[43m[\u001b[49m\u001b[38;5;124;43m\"\u001b[39;49m\u001b[38;5;124;43mframe_embed\u001b[39;49m\u001b[38;5;124;43m\"\u001b[39;49m\u001b[43m]\u001b[49m\u001b[38;5;241;43m.\u001b[39;49m\u001b[43mshape\u001b[49m)\n\u001b[1;32m     16\u001b[0m \u001b[38;5;28mprint\u001b[39m(deform_deform[\u001b[38;5;124m\"\u001b[39m\u001b[38;5;124mframe_embed\u001b[39m\u001b[38;5;124m\"\u001b[39m])\n",
      "\u001b[0;31mAttributeError\u001b[0m: 'list' object has no attribute 'shape'"
     ]
    }
   ],
   "source": [
    "model = checkpoint['model']\n",
    "routine = checkpoint['routine']\n",
    "config = checkpoint['config'] \n",
    "\n",
    "print(routine)\n",
    "print(model.keys())\n",
    "deform = model['deform']\n",
    "deform_deform = model[\"deform_deform_params\"]\n",
    "deform_anchor = model[\"deform_anchor_params\"]\n",
    "scaffold = model['scaffold']\n",
    "print(scaffold.keys())\n",
    "print(deform.keys())\n",
    "print(deform_deform.keys())\n",
    "print(deform_anchor.keys())\n",
    "print(deform_deform[\"frame_embed\"])\n"
   ]
  }
 ],
 "metadata": {
  "kernelspec": {
   "display_name": "cvpr",
   "language": "python",
   "name": "python3"
  },
  "language_info": {
   "codemirror_mode": {
    "name": "ipython",
    "version": 3
   },
   "file_extension": ".py",
   "mimetype": "text/x-python",
   "name": "python",
   "nbconvert_exporter": "python",
   "pygments_lexer": "ipython3",
   "version": "3.8.19"
  }
 },
 "nbformat": 4,
 "nbformat_minor": 2
}
