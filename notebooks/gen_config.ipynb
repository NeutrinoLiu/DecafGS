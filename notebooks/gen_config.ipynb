{
 "cells": [
  {
   "cell_type": "code",
   "execution_count": 16,
   "metadata": {},
   "outputs": [
    {
     "name": "stdout",
     "output_type": "stream",
     "text": [
      "train.batch_size=1 train.max_step=30000 train.random_seed=53\n",
      "train.batch_size=1 train.max_step=30000 train.random_seed=7\n",
      "train.batch_size=1 train.max_step=30000 train.random_seed=103\n",
      "train.batch_size=1 train.max_step=30000 train.random_seed=73\n",
      "train.batch_size=1 train.max_step=30000 train.random_seed=59\n",
      "train.batch_size=1 train.max_step=30000 train.random_seed=197\n",
      "train.batch_size=1 train.max_step=30000 train.random_seed=67\n",
      "train.batch_size=1 train.max_step=30000 train.random_seed=127\n",
      "train.batch_size=1 train.max_step=30000 train.random_seed=151\n",
      "train.batch_size=1 train.max_step=30000 train.random_seed=23\n",
      "train.batch_size=1 train.max_step=30000 train.random_seed=31\n",
      "train.batch_size=1 train.max_step=30000 train.random_seed=179\n",
      "train.batch_size=2 train.max_step=30000 train.random_seed=53\n",
      "train.batch_size=2 train.max_step=30000 train.random_seed=7\n",
      "train.batch_size=2 train.max_step=30000 train.random_seed=103\n",
      "train.batch_size=2 train.max_step=30000 train.random_seed=73\n",
      "train.batch_size=2 train.max_step=30000 train.random_seed=59\n",
      "train.batch_size=2 train.max_step=30000 train.random_seed=197\n",
      "train.batch_size=2 train.max_step=30000 train.random_seed=67\n",
      "train.batch_size=2 train.max_step=30000 train.random_seed=127\n",
      "train.batch_size=2 train.max_step=30000 train.random_seed=151\n",
      "train.batch_size=2 train.max_step=30000 train.random_seed=23\n",
      "train.batch_size=2 train.max_step=30000 train.random_seed=31\n",
      "train.batch_size=2 train.max_step=30000 train.random_seed=179\n",
      "train.batch_size=4 train.max_step=20000 train.random_seed=53\n",
      "train.batch_size=4 train.max_step=20000 train.random_seed=7\n",
      "train.batch_size=4 train.max_step=20000 train.random_seed=103\n",
      "train.batch_size=4 train.max_step=20000 train.random_seed=73\n",
      "train.batch_size=4 train.max_step=20000 train.random_seed=59\n",
      "train.batch_size=4 train.max_step=20000 train.random_seed=197\n",
      "train.batch_size=4 train.max_step=20000 train.random_seed=67\n",
      "train.batch_size=4 train.max_step=20000 train.random_seed=127\n",
      "train.batch_size=4 train.max_step=20000 train.random_seed=151\n",
      "train.batch_size=4 train.max_step=20000 train.random_seed=23\n",
      "train.batch_size=4 train.max_step=20000 train.random_seed=31\n",
      "train.batch_size=4 train.max_step=20000 train.random_seed=179\n"
     ]
    }
   ],
   "source": [
    "import random\n",
    "targets = [\n",
    "    2, 3, 5, 7, 11, 13, 17, 19, 23, 29, 31, 37, 41, 43, 47, 53, 59, 61, 67, 71, 73, 79, 83, 89, 97, 101, 103, 107, 109, 113, 127, 131, 137, 139, 149, 151, 157, 163, 167, 173, 179, 181, 191, 193, 197, 199\n",
    "]\n",
    "targets = random.sample(targets, 12)\n",
    "\n",
    "templates = [\n",
    "    lambda x: f\"train.batch_size=1 train.max_step=30000 train.random_seed={x}\",\n",
    "    lambda x: f\"train.batch_size=2 train.max_step=30000 train.random_seed={x}\",\n",
    "    lambda x: f\"train.batch_size=4 train.max_step=20000 train.random_seed={x}\"\n",
    "]\n",
    "\n",
    "for t in templates:\n",
    "    for i in targets:\n",
    "        print(t(i))\n"
   ]
  }
 ],
 "metadata": {
  "kernelspec": {
   "display_name": "cvpr",
   "language": "python",
   "name": "python3"
  },
  "language_info": {
   "codemirror_mode": {
    "name": "ipython",
    "version": 3
   },
   "file_extension": ".py",
   "mimetype": "text/x-python",
   "name": "python",
   "nbconvert_exporter": "python",
   "pygments_lexer": "ipython3",
   "version": "3.8.19"
  }
 },
 "nbformat": 4,
 "nbformat_minor": 2
}
